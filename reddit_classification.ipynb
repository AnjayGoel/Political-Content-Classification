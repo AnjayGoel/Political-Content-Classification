{
 "nbformat": 4,
 "nbformat_minor": 0,
 "metadata": {
  "colab": {
   "name": "reddit_classification.ipynb",
   "provenance": [],
   "collapsed_sections": []
  },
  "kernelspec": {
   "display_name": "Python 3",
   "name": "python3"
  }
 },
 "cells": [
  {
   "cell_type": "code",
   "metadata": {
    "id": "VEw9cLLQbbhs"
   },
   "source": [
    "!unzip /content/drive/MyDrive/datasets/glove.zip -d /content/"
   ],
   "execution_count": null,
   "outputs": []
  },
  {
   "cell_type": "code",
   "metadata": {
    "id": "boMMrdEZP0s6"
   },
   "source": [
    "!apt install libomp-dev\n",
    "!pip install faiss\n",
    "!pip install faiss-gpu\n",
    "import faiss  "
   ],
   "execution_count": null,
   "outputs": []
  },
  {
   "cell_type": "code",
   "metadata": {
    "id": "3wi8Yhi55sh8"
   },
   "source": [
    "!wget http://nlp.stanford.edu/data/glove.42B.300d.zip"
   ],
   "execution_count": null,
   "outputs": []
  },
  {
   "cell_type": "code",
   "metadata": {
    "id": "zeb3Ip__Ydrg",
    "colab": {
     "base_uri": "https://localhost:8080/"
    },
    "outputId": "c10f9836-5fce-43a8-e433-12c3725ac32c"
   },
   "source": [
    "!pip install --upgrade xgboost\n",
    "from xgboost import XGBClassifier"
   ],
   "execution_count": null,
   "outputs": [
    {
     "output_type": "stream",
     "text": [
      "Requirement already up-to-date: xgboost in /usr/local/lib/python3.7/dist-packages (1.4.2)\n",
      "Requirement already satisfied, skipping upgrade: numpy in /usr/local/lib/python3.7/dist-packages (from xgboost) (1.19.5)\n",
      "Requirement already satisfied, skipping upgrade: scipy in /usr/local/lib/python3.7/dist-packages (from xgboost) (1.4.1)\n"
     ],
     "name": "stdout"
    }
   ]
  },
  {
   "cell_type": "code",
   "metadata": {
    "id": "36ngYYYWPSmy"
   },
   "source": [
    "import pandas as pd\n",
    "import numpy as np\n",
    "import re\n",
    "import sys\n",
    "import json\n",
    "import csv\n",
    "import gc\n",
    "from collections import Counter\n",
    "import glob\n",
    "import os.path\n",
    "import time\n",
    "import nltk\n",
    "from random import *\n",
    "import ast\n",
    "import os\n",
    "import joblib\n",
    "import matplotlib.pyplot as plt\n",
    "import math\n",
    "from google.colab import drive\n",
    "import requests_oauthlib\n",
    "from scipy.spatial import distance\n",
    "from tensorflow.keras.initializers import Constant\n",
    "from sklearn.model_selection import GridSearchCV\n",
    "from sklearn.ensemble import RandomForestClassifier\n",
    "from sklearn.neighbors import NearestNeighbors, KNeighborsClassifier\n",
    "from sklearn.pipeline import make_pipeline\n",
    "from sklearn.preprocessing import StandardScaler,MinMaxScaler\n",
    "from sklearn.svm import SVC\n",
    "from sklearn import metrics\n",
    "from sklearn.linear_model import LogisticRegression,LinearRegression\n",
    "from sklearn.model_selection import train_test_split\n",
    "from tensorflow.keras.layers import *\n",
    "from tensorflow.keras.models import Sequential\n",
    "from tensorflow.keras import datasets, layers, models\n",
    "import tensorflow as tf\n",
    "import seaborn as sns"
   ],
   "execution_count": 1,
   "outputs": []
  },
  {
   "cell_type": "code",
   "metadata": {
    "id": "cnOxsO3pQG0x"
   },
   "source": [
    "from google.colab import drive\n",
    "drive.mount('/content/drive')\n",
    "#drive.flush_and_unmount()\n",
    "pd.set_option('display.max_rows', 5000)\n",
    "pd.set_option('display.max_columns', 5000)\n",
    "pd.set_option('display.width', 1000)\n",
    "pd.set_option('display.max_colwidth', -1)  # or 199"
   ],
   "execution_count": null,
   "outputs": []
  },
  {
   "cell_type": "code",
   "metadata": {
    "id": "GezGGOE6hs1l"
   },
   "source": [
    "# Load word frequency dataset and create a 'rel_freq' variable indicating 'politicalness' of a word.\n",
    "df = pd.read_csv(\"/content/drive/MyDrive/datasets/reddit/extracted_keywords_freq.csv\")\n",
    "df[\"rel_freq\"] = (df[\"pol_freq\"]*df[\"total_freq\"].sum())/(df[\"total_freq\"]*df[\"pol_freq\"].sum())-1"
   ],
   "execution_count": 3,
   "outputs": []
  },
  {
   "cell_type": "code",
   "metadata": {
    "colab": {
     "base_uri": "https://localhost:8080/",
     "height": 284
    },
    "id": "W1_eonR2AOtv",
    "outputId": "dbf798f0-162e-43b2-f940-561089531ff6"
   },
   "source": [
    "df[\"rel_freq\"].plot.kde()"
   ],
   "execution_count": 4,
   "outputs": [
    {
     "output_type": "execute_result",
     "data": {
      "text/plain": [
       "<matplotlib.axes._subplots.AxesSubplot at 0x7f0312dcf310>"
      ]
     },
     "metadata": {
      "tags": []
     },
     "execution_count": 4
    },
    {
     "output_type": "display_data",
     "data": {
      "image/png": "[encoded data removed]",
      "text/plain": [
       "<Figure size 432x288 with 1 Axes>"
      ]
     },
     "metadata": {
      "tags": [],
      "needs_background": "light"
     }
    }
   ]
  },
  {
   "cell_type": "code",
   "metadata": {
    "id": "KlXueQLUFYKz"
   },
   "source": [
    "df.head(n=50)"
   ],
   "execution_count": null,
   "outputs": []
  },
  {
   "cell_type": "code",
   "metadata": {
    "id": "Kd0T1NgBqrvp"
   },
   "source": [
    "#word frequency dict\n",
    "wfd = dict(zip(df.word, df.total_freq))\n",
    "\n",
    "def get_most_common(x):  #get most frequent word from a phrase.\n",
    "  if len(x)<2:\n",
    "    return x\n",
    "  word_freq = 0\n",
    "  word_ret = \"\"\n",
    "  for word in x.split():\n",
    "    if (word in [\"null\",\"nan\"]):\n",
    "      continue\n",
    "    elif (wfd[word]>word_freq):\n",
    "      word_ret = word\n",
    "      word_freq = wfd[word]\n",
    "  return word_ret\n",
    "\n",
    "def split_words(lst):\n",
    "  ret_list = []\n",
    "  for i in lst:\n",
    "    ret_list.append(get_most_common(i))\n",
    "  return ret_list"
   ],
   "execution_count": 6,
   "outputs": []
  },
  {
   "cell_type": "code",
   "metadata": {
    "id": "Ym2KO6PrPncP"
   },
   "source": [
    "# Test and train dataset. Contains keywords extracted from paragraph using textrank.\n",
    "df_main = pd.read_csv(\"/content/drive/MyDrive/datasets/reddit/train_dataset.csv\")\n",
    "df_main[\"keywords\"] = df_main[\"keywords\"].apply(ast.literal_eval)\n",
    "df_main[\"text_rank_scores\"] = df_main[\"text_rank_scores\"].apply(ast.literal_eval)\n",
    "df_main[\"keywords\"] = df_main[\"keywords\"].apply(split_words) #Resolve compound words.\n",
    "df_main = df_main.sample(frac=1).reset_index(drop=True) #Shuffle"
   ],
   "execution_count": 7,
   "outputs": []
  },
  {
   "cell_type": "code",
   "metadata": {
    "id": "IbALuN8Xfunf"
   },
   "source": [
    "#test train splits for both categories\n",
    "split_pos = 0.5\n",
    "split_neg = 0.5\n",
    "\n",
    "#removing some subreddits that are hard to classify. \n",
    "df_main = df_main[~df_main[\"subreddit\"].isin((\"badeconomics\",\"askeconomics\", \"economics\",\"politicalcompassMemes\"))]\n",
    "\n",
    "df_pos = df_main[df_main[\"label\"]==1]\n",
    "df_neg = df_main[df_main[\"label\"]==0]\n",
    "\n",
    "df_pos_train,df_pos_test = train_test_split(df_pos, test_size=split_pos)\n",
    "df_neg_train,df_neg_test = train_test_split(df_neg, test_size=split_neg)\n",
    "\n",
    "df_train = pd.concat([df_pos_train, df_neg_train], ignore_index=True)\n",
    "df_test = pd.concat([df_pos_test, df_neg_test], ignore_index=True)"
   ],
   "execution_count": 81,
   "outputs": []
  },
  {
   "cell_type": "code",
   "metadata": {
    "id": "xYZt7mH-AUI7",
    "colab": {
     "base_uri": "https://localhost:8080/"
    },
    "outputId": "804e1b20-f60f-437d-9797-cee25f2684dd"
   },
   "source": [
    "len_pos = len(df_pos_train)\n",
    "len_neg = len(df_neg_train)\n",
    "len_tot = len_pos+len_neg\n",
    "print(f\"pos: {len_pos/len_tot}, neg: {len_neg/len_tot}\")"
   ],
   "execution_count": 83,
   "outputs": [
    {
     "output_type": "stream",
     "text": [
      "pos: 0.5275150830958285, neg: 0.47248491690417144\n"
     ],
     "name": "stdout"
    }
   ]
  },
  {
   "cell_type": "code",
   "metadata": {
    "colab": {
     "base_uri": "https://localhost:8080/"
    },
    "id": "vZ8u5YWZo515",
    "outputId": "0e71b27b-162d-401b-a768-cb38fca6b5e2"
   },
   "source": [
    "len_pos = len(df_pos_test)\n",
    "len_neg = len(df_neg_test)\n",
    "len_tot = len_pos+len_neg\n",
    "print(f\"pos: {len_pos/len_tot}, neg: {len_neg/len_tot}\")"
   ],
   "execution_count": 84,
   "outputs": [
    {
     "output_type": "stream",
     "text": [
      "pos: 0.5275150830958285, neg: 0.47248491690417144\n"
     ],
     "name": "stdout"
    }
   ]
  },
  {
   "cell_type": "code",
   "metadata": {
    "id": "04akOrhUb9Dp"
   },
   "source": [
    "rel_freq_dict = dict(zip(df[\"word\"], df[\"rel_freq\"]))\n",
    "\n",
    "def get_rel_freq(x,text_rank_scores):\n",
    "  try:\n",
    "    ret = [rel_freq_dict[x]]\n",
    "  except:\n",
    "    ret = [0.0] # not found\n",
    "  return ret\n",
    "\n",
    "def get_x(xs,text_rank_scores):\n",
    "  ret_val = []\n",
    "  \n",
    "  for i in range(len(xs)):\n",
    "    ret_val.extend(get_rel_freq(xs[i],text_rank_scores[i]))\n",
    "\n",
    "  ret_val = np.sort(np.array(ret_val))[::-1]\n",
    "  ret_val = np.pad(ret_val, (0, max(0,10-len(ret_val))), 'constant') # Padding to 10 items\n",
    "  return ret_val"
   ],
   "execution_count": 13,
   "outputs": []
  },
  {
   "cell_type": "code",
   "metadata": {
    "id": "CbKdHdpuhqLF"
   },
   "source": [
    "x_train = np.stack(df_train.apply(lambda row: get_x(row[\"keywords\"],row[\"text_rank_scores\"]), axis=1))\n",
    "y_train = np.array(df_train.label.astype(int))\n",
    "\n",
    "x_test = np.stack(df_test.apply(lambda row: get_x(row[\"keywords\"],row[\"text_rank_scores\"]), axis=1))\n",
    "y_test = np.array(df_test.label.astype(int))"
   ],
   "execution_count": 85,
   "outputs": []
  },
  {
   "cell_type": "code",
   "metadata": {
    "id": "6IjFuukwsF36"
   },
   "source": [
    "def plot_cm(cf_matrix):\n",
    "  group_names = [\"True Neg\",\"False Pos\",\"False Neg\",\"True Pos\"]\n",
    "  group_counts = [\"{0:0.0f}\".format(value) for value in cf_matrix.flatten()]\n",
    "  group_percentages = [\"{0:.2%}\".format(value) for value in cf_matrix.flatten()/np.sum(cf_matrix)]\n",
    "  labels = [f\"{v1}\\n{v2}\\n{v3}\" for v1, v2, v3 in zip(group_names,group_counts,group_percentages)]\n",
    "  labels = np.asarray(labels).reshape(2,2)\n",
    "  sns.heatmap(cf_matrix, annot=labels, fmt='', cmap='Blues')"
   ],
   "execution_count": 46,
   "outputs": []
  },
  {
   "cell_type": "markdown",
   "metadata": {
    "id": "Iw_JOnsCV2qV"
   },
   "source": [
    "Logistic Regression"
   ]
  },
  {
   "cell_type": "code",
   "metadata": {
    "id": "siAG1r7bBtO_",
    "colab": {
     "base_uri": "https://localhost:8080/",
     "height": 304
    },
    "outputId": "09351195-609c-4999-d276-3e37f8decf94"
   },
   "source": [
    "lr = LogisticRegression(random_state=0,max_iter=200)\n",
    "lr.fit(x_train, y_train)\n",
    "\n",
    "print(f\"Prediction Accuracy on train: {lr.score(x_train, y_train)}\")\n",
    "print(f\"Prediction Accuracy on test: {lr.score(x_test, y_test)}\")\n",
    "y_pred = lr.predict(x_test)\n",
    "cm = metrics.confusion_matrix(y_test, y_pred)\n",
    "plot_cm(cm)"
   ],
   "execution_count": 86,
   "outputs": [
    {
     "output_type": "stream",
     "text": [
      "Prediction Accuracy on train: 0.9458627900951253\n",
      "Prediction Accuracy on test: 0.9463254617463078\n"
     ],
     "name": "stdout"
    },
    {
     "output_type": "display_data",
     "data": {
      "image/png": "[encoded data removed]",
      "text/plain": [
       "<Figure size 432x288 with 2 Axes>"
      ]
     },
     "metadata": {
      "tags": [],
      "needs_background": "light"
     }
    }
   ]
  },
  {
   "cell_type": "code",
   "metadata": {
    "colab": {
     "base_uri": "https://localhost:8080/"
    },
    "id": "2Tzx5MwylQby",
    "outputId": "b3224f5e-b5f4-4bf0-c50d-9b4e000ea2b2"
   },
   "source": [
    "joblib.dump(lr, \"lr_train_50_pos.sav\")"
   ],
   "execution_count": 48,
   "outputs": [
    {
     "output_type": "execute_result",
     "data": {
      "text/plain": [
       "['lr_train_20_pos.sav']"
      ]
     },
     "metadata": {
      "tags": []
     },
     "execution_count": 48
    }
   ]
  },
  {
   "cell_type": "code",
   "metadata": {
    "id": "a7ExXpbYawRX",
    "colab": {
     "base_uri": "https://localhost:8080/"
    },
    "outputId": "bb03426b-9fa8-4fd1-c206-770b2885f007"
   },
   "source": [
    "print(lr.coef_, lr.intercept_)"
   ],
   "execution_count": 87,
   "outputs": [
    {
     "output_type": "stream",
     "text": [
      "[[3.93046247 1.81532622 0.99551    0.67375188 0.70904757 0.38134367\n",
      "  0.8121919  0.74829088 0.83665252 3.05491921]] [-0.98434933]\n"
     ],
     "name": "stdout"
    }
   ]
  },
  {
   "cell_type": "code",
   "metadata": {
    "id": "YOxtPnT5HO9b"
   },
   "source": [
    "## False Negatives\n",
    "wrong = df_test[(y_pred==0) & (y_test == 1)].keywords\n",
    "for i in wrong.sample(n=28):\n",
    "  print(dict(zip(i, get_x(i,[i for i in range(10)]))))"
   ],
   "execution_count": null,
   "outputs": []
  },
  {
   "cell_type": "code",
   "metadata": {
    "id": "mENNoGBnE35s"
   },
   "source": [
    "## False Positives\n",
    "wrong = df_test[(y_pred==1) & (y_test == 0)].keywords\n",
    "for i in wrong.sample(n=28):\n",
    "  print(dict(zip(i, get_x(i,[i for i in range(10)]))))"
   ],
   "execution_count": null,
   "outputs": []
  },
  {
   "cell_type": "markdown",
   "metadata": {
    "id": "xMj9thCi2Bvo"
   },
   "source": [
    "KNN"
   ]
  },
  {
   "cell_type": "code",
   "metadata": {
    "id": "Jsno1UUT2EYC"
   },
   "source": [
    "class FaissKNeighbors:\n",
    "    def __init__(self, k=5):\n",
    "        self.index = None\n",
    "        self.y = None\n",
    "        self.k = k\n",
    "\n",
    "    def fit(self, X, y):\n",
    "        self.index = faiss.IndexFlatL2(X.shape[1])\n",
    "        self.index.add(X.astype(np.float32))\n",
    "        self.y = y\n",
    "\n",
    "    def predict(self, X):\n",
    "        distances, indices = self.index.search(X.astype(np.float32), k=self.k)\n",
    "        votes = self.y[indices]\n",
    "        predictions = np.array([np.argmax(np.bincount(x)) for x in votes])\n",
    "        return predictions"
   ],
   "execution_count": null,
   "outputs": []
  },
  {
   "cell_type": "code",
   "metadata": {
    "id": "R-aURq_6349u"
   },
   "source": [
    "fknn = FaissKNeighbors(k=5)\n",
    "fknn.fit(x_train,y_train)"
   ],
   "execution_count": null,
   "outputs": []
  },
  {
   "cell_type": "code",
   "metadata": {
    "id": "57zmbJoQEYxN",
    "colab": {
     "base_uri": "https://localhost:8080/",
     "height": 284
    },
    "outputId": "a08f41a7-8923-41fe-e1b2-0b7be8f5260b"
   },
   "source": [
    "y_pred = fknn.predict(x_test)\n",
    "cm = metrics.confusion_matrix(y_test, y_pred)\n",
    "print(metrics.accuracy_score(y_test,y_pred))\n",
    "plot_cm(cm)"
   ],
   "execution_count": null,
   "outputs": [
    {
     "output_type": "stream",
     "text": [
      "0.9079040631405528\n"
     ],
     "name": "stdout"
    },
    {
     "output_type": "display_data",
     "data": {
      "image/png": "[encoded data removed]",
      "text/plain": [
       "<Figure size 432x288 with 2 Axes>"
      ]
     },
     "metadata": {
      "tags": [],
      "needs_background": "light"
     }
    }
   ]
  },
  {
   "cell_type": "markdown",
   "metadata": {
    "id": "cEly0OdTnlNg"
   },
   "source": [
    "XGBoost"
   ]
  },
  {
   "cell_type": "code",
   "metadata": {
    "id": "h5B_IwKsnoWl",
    "colab": {
     "base_uri": "https://localhost:8080/"
    },
    "outputId": "10eeab3f-8f55-48fb-8ce1-80884b30030c"
   },
   "source": [
    "xgb = XGBClassifier(n_estimators=100)\n",
    "training_start = time.perf_counter()\n",
    "xgb.fit(x_train, y_train)\n",
    "training_end = time.perf_counter()\n",
    "prediction_start = time.perf_counter()\n",
    "y_pred = xgb.predict(x_test)\n",
    "prediction_end = time.perf_counter()\n",
    "acc_xgb = (y_pred == y_test).sum().astype(float) / len(y_pred)*100\n",
    "xgb_train_time = training_end-training_start\n",
    "xgb_prediction_time = prediction_end-prediction_start\n",
    "print(f\"XGBoost's prediction accuracy is: {acc_xgb}\")\n",
    "print(f\"Time consumed for training: {xgb_train_time}\")\n",
    "print(f\"Time consumed for prediction: {xgb_prediction_time}\")"
   ],
   "execution_count": null,
   "outputs": [
    {
     "output_type": "stream",
     "text": [
      "/usr/local/lib/python3.7/dist-packages/xgboost/sklearn.py:1146: UserWarning: The use of label encoder in XGBClassifier is deprecated and will be removed in a future release. To remove this warning, do the following: 1) Pass option use_label_encoder=False when constructing XGBClassifier object; and 2) Encode your labels (y) as integers starting with 0, i.e. 0, 1, 2, ..., [num_class - 1].\n",
      "  warnings.warn(label_encoder_deprecation_msg, UserWarning)\n"
     ],
     "name": "stderr"
    },
    {
     "output_type": "stream",
     "text": [
      "[17:13:28] WARNING: ../src/learner.cc:1095: Starting in XGBoost 1.3.0, the default evaluation metric used with the objective 'binary:logistic' was changed from 'error' to 'logloss'. Explicitly set eval_metric if you'd like to restore the old behavior.\n",
      "XGBoost's prediction accuracy is: 91.71184460067815\n",
      "Time consumed for training: 27.78833884100095\n",
      "Time consumed for prediction: 0.1950870799992117\n"
     ],
     "name": "stdout"
    }
   ]
  },
  {
   "cell_type": "code",
   "metadata": {
    "colab": {
     "base_uri": "https://localhost:8080/",
     "height": 284
    },
    "id": "KehYn7_Ugprk",
    "outputId": "f5333e5f-48c2-4311-dc3f-894b06cdc9ff"
   },
   "source": [
    "cm = metrics.confusion_matrix(y_test, y_pred)\n",
    "print(metrics.accuracy_score(y_test,y_pred))\n",
    "plot_cm(cm)"
   ],
   "execution_count": null,
   "outputs": [
    {
     "output_type": "stream",
     "text": [
      "0.9171184460067815\n"
     ],
     "name": "stdout"
    },
    {
     "output_type": "display_data",
     "data": {
      "image/png": "[encoded data removed]",
      "text/plain": [
       "<Figure size 432x288 with 2 Axes>"
      ]
     },
     "metadata": {
      "tags": [],
      "needs_background": "light"
     }
    }
   ]
  },
  {
   "cell_type": "markdown",
   "metadata": {
    "id": "pZ9rYkXxVVdO"
   },
   "source": [
    "Random Forest"
   ]
  },
  {
   "cell_type": "code",
   "metadata": {
    "id": "6NBWPbR-VX46",
    "colab": {
     "base_uri": "https://localhost:8080/"
    },
    "outputId": "85a74ca6-f575-4588-8970-c3ca9bd0eeda"
   },
   "source": [
    "clf=RandomForestClassifier(n_estimators=50,max_depth=40)\n",
    "clf.fit(x_train,y_train)\n",
    "y_pred=clf.predict(x_test)\n",
    "print(\"Accuracy:\",metrics.accuracy_score(y_test, y_pred))"
   ],
   "execution_count": null,
   "outputs": [
    {
     "output_type": "stream",
     "text": [
      "Accuracy: 0.9167161548629337\n"
     ],
     "name": "stdout"
    }
   ]
  },
  {
   "cell_type": "code",
   "metadata": {
    "colab": {
     "base_uri": "https://localhost:8080/",
     "height": 284
    },
    "id": "U704r4GXg5B3",
    "outputId": "5723167b-c333-4d5e-c5ac-ff793ebef496"
   },
   "source": [
    "cm = metrics.confusion_matrix(y_test, y_pred)\n",
    "print(metrics.accuracy_score(y_test,y_pred))\n",
    "plot_cm(cm)"
   ],
   "execution_count": null,
   "outputs": [
    {
     "output_type": "stream",
     "text": [
      "0.9167161548629337\n"
     ],
     "name": "stdout"
    },
    {
     "output_type": "display_data",
     "data": {
      "image/png": "[encoded data removed]",
      "text/plain": [
       "<Figure size 432x288 with 2 Axes>"
      ]
     },
     "metadata": {
      "tags": [],
      "needs_background": "light"
     }
    }
   ]
  },
  {
   "cell_type": "markdown",
   "metadata": {
    "id": "d73uLs-MWUGf"
   },
   "source": [
    "Simple Neural Network"
   ]
  },
  {
   "cell_type": "code",
   "metadata": {
    "id": "R5EXX-V_WXUS"
   },
   "source": [
    "model = Sequential()\n",
    "model.add(Dense(30))\n",
    "model.add(Dropout(0.2))\n",
    "model.add(Dense(10))\n",
    "model.add(Dense(1, activation='sigmoid'))\n",
    "model.compile(optimizer='adam', loss='binary_crossentropy',metrics=['accuracy'])"
   ],
   "execution_count": null,
   "outputs": []
  },
  {
   "cell_type": "code",
   "metadata": {
    "id": "ajJDqB-kYzde",
    "colab": {
     "base_uri": "https://localhost:8080/"
    },
    "outputId": "54c5e92a-395e-4cbb-9e6f-7b55cf96d371"
   },
   "source": [
    "model.fit(x_train, y_train, epochs=3,batch_size=10, verbose=1)\n",
    "_, accuracy = model.evaluate(x_test, y_test)\n",
    "print('Accuracy: %.2f' % (accuracy*100))"
   ],
   "execution_count": null,
   "outputs": [
    {
     "output_type": "stream",
     "text": [
      "Epoch 1/3\n",
      "32787/32787 [==============================] - 49s 1ms/step - loss: 0.1543 - accuracy: 0.9474\n",
      "Epoch 2/3\n",
      "32787/32787 [==============================] - 49s 1ms/step - loss: 0.1539 - accuracy: 0.9478\n",
      "Epoch 3/3\n",
      "32787/32787 [==============================] - 49s 1ms/step - loss: 0.1534 - accuracy: 0.9479\n",
      "3263/3263 [==============================] - 4s 1ms/step - loss: 0.3457 - accuracy: 0.8797\n",
      "Accuracy: 87.97\n"
     ],
     "name": "stdout"
    }
   ]
  },
  {
   "cell_type": "markdown",
   "metadata": {
    "id": "nFzlKQ9LHYSp"
   },
   "source": [
    "Using Embeddings"
   ]
  },
  {
   "cell_type": "code",
   "metadata": {
    "id": "fS0bg65oTVmz"
   },
   "source": [
    "embeddings= {}\n",
    "with open(\"/content/glove/glove.840B.300d.txt\", 'r') as f:\n",
    "    for line in f:\n",
    "        values = line.split(' ')\n",
    "        word = values[0]\n",
    "        vector = np.asarray(values[1:], \"float32\")\n",
    "        embeddings[word]=vector"
   ],
   "execution_count": null,
   "outputs": []
  },
  {
   "cell_type": "code",
   "metadata": {
    "id": "vZqW0ulWgVtU"
   },
   "source": [
    "def get_embedding(x):\n",
    "  try:\n",
    "    return embeddings[x]\n",
    "  except:\n",
    "    return np.zeros(shape=(300))"
   ],
   "execution_count": null,
   "outputs": []
  },
  {
   "cell_type": "code",
   "metadata": {
    "id": "rK-vGYdKOFjZ"
   },
   "source": [
    "word_to_ind = {}\n",
    "ind_to_word = {}\n",
    "embeddings_ds = []\n",
    "\n",
    "for ind,word in enumerate(list(df[\"word\"])):\n",
    "  word_to_ind[word]=ind\n",
    "  ind_to_word[ind]=word\n",
    "  embeddings_ds.append(get_embedding(word))\n",
    "embeddings_ds = np.array(embeddings_ds,dtype=\"float32\")"
   ],
   "execution_count": null,
   "outputs": []
  },
  {
   "cell_type": "code",
   "metadata": {
    "id": "WxwbjIU6Qx3f"
   },
   "source": [
    "embeddings_ds[:10]"
   ],
   "execution_count": null,
   "outputs": []
  },
  {
   "cell_type": "code",
   "metadata": {
    "id": "yr5hymHI_is2"
   },
   "source": [
    "index = faiss.IndexFlatL2(300)  \n",
    "index.add(embeddings_ds)\n",
    "print(index.ntotal)"
   ],
   "execution_count": null,
   "outputs": []
  },
  {
   "cell_type": "code",
   "metadata": {
    "id": "iVJF9Gid_lDd"
   },
   "source": [
    "get_nearest(x):\n",
    "  D, I = index.search(np.array([get_embedding(x), 1) # sanity check\n",
    "  return ind_to_word[I[0][0]]"
   ],
   "execution_count": null,
   "outputs": []
  }
 ]
}